{
  "nbformat": 4,
  "nbformat_minor": 0,
  "metadata": {
    "accelerator": "GPU",
    "colab": {
      "name": "Copy of Section_B_HW4.ipynb",
      "provenance": [],
      "collapsed_sections": []
    },
    "kernelspec": {
      "display_name": "Python 3",
      "language": "python",
      "name": "python3"
    },
    "language_info": {
      "codemirror_mode": {
        "name": "ipython",
        "version": 3
      },
      "file_extension": ".py",
      "mimetype": "text/x-python",
      "name": "python",
      "nbconvert_exporter": "python",
      "pygments_lexer": "ipython3",
      "version": "3.7.4"
    }
  },
  "cells": [
    {
      "cell_type": "markdown",
      "metadata": {
        "id": "VdGag7Q98uuA"
      },
      "source": [
        "\n",
        "# Fully-Connected Networks and Convoluntional Neural Networks"
      ]
    },
    {
      "cell_type": "markdown",
      "metadata": {
        "id": "G7vN9PE-ZFvg"
      },
      "source": [
        "# Environment Set Up"
      ]
    },
    {
      "cell_type": "code",
      "metadata": {
        "colab": {
          "base_uri": "https://localhost:8080/"
        },
        "id": "fWT6gOe1J2zB",
        "outputId": "143ada8e-ec54-4762-d33a-72703a0d1dce"
      },
      "source": [
        "! pip install scipy==1.1.0"
      ],
      "execution_count": null,
      "outputs": [
        {
          "output_type": "stream",
          "text": [
            "Collecting scipy==1.1.0\n",
            "\u001b[?25l  Downloading https://files.pythonhosted.org/packages/40/de/0c22c6754370ba6b1fa8e53bd6e514d4a41a181125d405a501c215cbdbd6/scipy-1.1.0-cp37-cp37m-manylinux1_x86_64.whl (31.2MB)\n",
            "\u001b[K     |████████████████████████████████| 31.2MB 104kB/s \n",
            "\u001b[?25hRequirement already satisfied: numpy>=1.8.2 in /usr/local/lib/python3.7/dist-packages (from scipy==1.1.0) (1.19.5)\n",
            "\u001b[31mERROR: plotnine 0.6.0 has requirement scipy>=1.2.0, but you'll have scipy 1.1.0 which is incompatible.\u001b[0m\n",
            "\u001b[31mERROR: albumentations 0.1.12 has requirement imgaug<0.2.7,>=0.2.5, but you'll have imgaug 0.2.9 which is incompatible.\u001b[0m\n",
            "Installing collected packages: scipy\n",
            "  Found existing installation: scipy 1.4.1\n",
            "    Uninstalling scipy-1.4.1:\n",
            "      Successfully uninstalled scipy-1.4.1\n",
            "Successfully installed scipy-1.1.0\n"
          ],
          "name": "stdout"
        }
      ]
    },
    {
      "cell_type": "markdown",
      "metadata": {
        "id": "_Pja5zjFXwTp"
      },
      "source": [
        "Mount your google drive in google colab"
      ]
    },
    {
      "cell_type": "code",
      "metadata": {
        "colab": {
          "base_uri": "https://localhost:8080/"
        },
        "id": "mdVPU9EUXvij",
        "outputId": "ce88f9bc-c067-4763-96c5-2eef27717b14"
      },
      "source": [
        "from google.colab import drive\n",
        "drive.mount('/content/gdrive/')"
      ],
      "execution_count": null,
      "outputs": [
        {
          "output_type": "stream",
          "text": [
            "Mounted at /content/gdrive/\n"
          ],
          "name": "stdout"
        }
      ]
    },
    {
      "cell_type": "code",
      "metadata": {
        "id": "YbqyWGElhHtf"
      },
      "source": [
        "import torch\n",
        "import time\n",
        "import torch.nn as nn\n",
        "# device = torch.device(\"cuda:0\" if torch.cuda.is_available() else \"cpu\")"
      ],
      "execution_count": null,
      "outputs": []
    },
    {
      "cell_type": "code",
      "metadata": {
        "id": "HwSblWSIX-qM"
      },
      "source": [
        "import sys\n",
        "import os\n",
        "prefix = '/content/gdrive/My Drive/'\n",
        "\n",
        "customized_path_to_your_data = 'data'\n",
        "sys_path = os.path.join(prefix, customized_path_to_your_data)\n",
        "sys.path.append(sys_path)"
      ],
      "execution_count": null,
      "outputs": []
    },
    {
      "cell_type": "markdown",
      "metadata": {
        "id": "r9MOHcS5y_fn"
      },
      "source": [
        "# Pytorch basics\n",
        "\n",
        "\n",
        "\n",
        "\n"
      ]
    },
    {
      "cell_type": "markdown",
      "metadata": {
        "id": "AGXAFq_jy1FI"
      },
      "source": [
        "Simply put, PyTorch is a **Tensor** library like Numpy. These two libraries similarly provide useful and efficient APIs for you to deal with your tensor data. What really differentiate PyTorch from Numpy are the following two features:\n",
        "1. Numerical operations that can **run on GPUs** (more than 10x speedup)\n",
        "2. Automatic differentiation for building and training neural networks"
      ]
    },
    {
      "cell_type": "markdown",
      "metadata": {
        "id": "dUem7BTxy1Fc"
      },
      "source": [
        "## 1.1. `nn` Module\n",
        "Computational graphs and autograd are a very powerful paradigm for defining complex operators and automatically taking derivatives; however for large neural networks raw autograd can be a bit too low-level.\n",
        "\n",
        "When building neural networks we frequently think of arranging the computation into layers, some of which have learnable parameters which will be optimized during learning.\n",
        "\n",
        "In PyTorch, the nn package serves this purpose. The nn package defines a set of Modules, which are roughly equivalent to neural network layers. A Module receives input Tensors and computes output Tensors, but may also hold internal state such as Tensors containing learnable parameters. The nn package also defines a set of useful loss functions that are commonly used when training neural networks.\n",
        "\n",
        "Now, let's see how our simple NN could be implemented using the nn module."
      ]
    },
    {
      "cell_type": "code",
      "metadata": {
        "colab": {
          "base_uri": "https://localhost:8080/"
        },
        "id": "80l5DvfCy1Fe",
        "outputId": "0d8b7640-b248-4787-d8ba-e804b4253fed"
      },
      "source": [
        "import torch\n",
        "import torch.nn as nn\n",
        "# N is batch size; D_in is input dimension;\n",
        "# H is hidden dimension; D_out is output dimension.\n",
        "N, D_in, H, D_out = 64, 1000, 100, 10\n",
        "\n",
        "# Create random Tensors to hold inputs and outputs\n",
        "x = torch.randn(N, D_in)\n",
        "y = torch.randn(N, D_out)\n",
        "\n",
        "# Use the nn package to define our model as a sequence of layers. nn.Sequential\n",
        "# is a Module which contains other Modules, and applies them in sequence to\n",
        "# produce its output. Each Linear Module computes output from input using a\n",
        "# linear function, and holds internal Tensors for its weight and bias.\n",
        "model = nn.Sequential(\n",
        "    nn.Linear(D_in, H),\n",
        "    nn.ReLU(),\n",
        "    nn.Linear(H, D_out),\n",
        ")\n",
        "\n",
        "# The nn package also contains definitions of popular loss functions; in this\n",
        "# case we will use Mean Squared Error (MSE) as our loss function.\n",
        "loss_fn = nn.MSELoss(reduction='sum')\n",
        "\n",
        "learning_rate = 1e-4\n",
        "for t in range(500):\n",
        "\n",
        "    y_pred = model(x)\n",
        "    loss = loss_fn(y_pred, y)\n",
        "    if t % 100 == 99:\n",
        "        print(f'iteration {t}: {loss.item()}')\n",
        "\n",
        "    model.zero_grad()\n",
        "    loss.backward()\n",
        "\n",
        "    with torch.no_grad():\n",
        "        for param in model.parameters():\n",
        "            param -= learning_rate * param.grad"
      ],
      "execution_count": null,
      "outputs": [
        {
          "output_type": "stream",
          "text": [
            "iteration 99: 2.9120113849639893\n",
            "iteration 199: 0.05105302855372429\n",
            "iteration 299: 0.001618186361156404\n",
            "iteration 399: 6.281122477957979e-05\n",
            "iteration 499: 2.6908519430435263e-06\n"
          ],
          "name": "stdout"
        }
      ]
    },
    {
      "cell_type": "markdown",
      "metadata": {
        "id": "QMdlC7Xey1Fi"
      },
      "source": [
        "So far, we have been updating the model parameters manually with `torch.no_grad()`. However, if we want to use optimization algorithms other than SGD, it might get a bit nasty to do it manually. Instead of manually doing this, we can use `optim` pacakge to help optimize our model: "
      ]
    },
    {
      "cell_type": "code",
      "metadata": {
        "colab": {
          "base_uri": "https://localhost:8080/"
        },
        "id": "6TZ8zOGEy1Fi",
        "outputId": "0f6af870-a40c-458f-8176-aab64f45cc89"
      },
      "source": [
        "N, D_in, H, D_out = 64, 1000, 100, 10\n",
        "\n",
        "# Create random Tensors to hold inputs and outputs\n",
        "x = torch.randn(N, D_in)\n",
        "y = torch.randn(N, D_out)\n",
        "\n",
        "# Use the nn package to define our model and loss function.\n",
        "model = nn.Sequential(\n",
        "    nn.Linear(D_in, H),\n",
        "    nn.ReLU(),\n",
        "    nn.Linear(H, D_out),\n",
        ")\n",
        "loss_fn = torch.nn.MSELoss(reduction='sum')\n",
        "\n",
        "# Use the optim package to define an Optimizer that will update the weights of\n",
        "# the model for us. \n",
        "learning_rate = 1e-4\n",
        "optimizer = torch.optim.SGD(model.parameters(), lr=learning_rate)\n",
        "for t in range(500):\n",
        "    # Forward pass: compute predicted y by passing x to the model.\n",
        "    y_pred = model(x)\n",
        "\n",
        "    # Compute and print loss.\n",
        "    loss = loss_fn(y_pred, y)\n",
        "    if t % 100 == 99:\n",
        "        print(f'iteration {t}: {loss.item()}')\n",
        "\n",
        "    optimizer.zero_grad()\n",
        "\n",
        "    # Backward pass: compute gradient of the loss with respect to model\n",
        "    # parameters\n",
        "    loss.backward()\n",
        "\n",
        "    # Calling the step function on an Optimizer makes an update to its\n",
        "    # parameters\n",
        "    optimizer.step()"
      ],
      "execution_count": null,
      "outputs": [
        {
          "output_type": "stream",
          "text": [
            "iteration 99: 2.1339685916900635\n",
            "iteration 199: 0.029400290921330452\n",
            "iteration 299: 0.0008142357692122459\n",
            "iteration 399: 2.910922557930462e-05\n",
            "iteration 499: 1.1632698715402512e-06\n"
          ],
          "name": "stdout"
        }
      ]
    },
    {
      "cell_type": "markdown",
      "metadata": {
        "id": "DZYEUnVNy1Fm"
      },
      "source": [
        "Sometimes you will want to specify models that are more complex than a sequence of existing Modules; for these cases you can define your own Modules by subclassing nn.Module and defining a forward which receives input Tensors and produces output Tensors using other modules or other autograd operations on Tensors."
      ]
    },
    {
      "cell_type": "code",
      "metadata": {
        "colab": {
          "base_uri": "https://localhost:8080/"
        },
        "id": "7HCZMJy6y1Fn",
        "outputId": "7c917c70-b9b9-405d-8d6d-fca3d47b19cf"
      },
      "source": [
        "class TwoLayerNet(nn.Module):\n",
        "    def __init__(self, D_in, H, D_out):\n",
        "\n",
        "        super(TwoLayerNet, self).__init__()\n",
        "        self.linear1 = nn.Linear(D_in, H)\n",
        "        self.linear2 = nn.Linear(H, D_out)\n",
        "\n",
        "    def forward(self, x):\n",
        "       \n",
        "        h_relu = self.linear1(x).clamp(min=0)\n",
        "        y_pred = self.linear2(h_relu)\n",
        "        return y_pred\n",
        "\n",
        "# N is batch size; D_in is input dimension;\n",
        "# H is hidden dimension; D_out is output dimension.\n",
        "N, D_in, H, D_out = 64, 1000, 100, 10\n",
        "\n",
        "# Create random Tensors to hold inputs and outputs\n",
        "x = torch.randn(N, D_in)\n",
        "y = torch.randn(N, D_out)\n",
        "\n",
        "# Construct our model by instantiating the class defined above\n",
        "model = TwoLayerNet(D_in, H, D_out)\n",
        "\n",
        "# Construct our loss function and an Optimizer. The call to model.parameters()\n",
        "# in the SGD constructor will contain the learnable parameters of the two\n",
        "# nn.Linear modules which are members of the model.\n",
        "criterion = nn.MSELoss(reduction='sum')\n",
        "optimizer = torch.optim.SGD(model.parameters(), lr=1e-4)\n",
        "for t in range(500):\n",
        "    # Forward pass: Compute predicted y by passing x to the model\n",
        "    y_pred = model(x)\n",
        "\n",
        "    # Compute and print loss\n",
        "    loss = criterion(y_pred, y)\n",
        "    if t % 100 == 99:\n",
        "        print(f'iteration {t}: {loss.item()}')\n",
        "\n",
        "    # Zero gradients, perform a backward pass, and update the weights.\n",
        "    optimizer.zero_grad()\n",
        "    loss.backward()\n",
        "    optimizer.step()"
      ],
      "execution_count": null,
      "outputs": [
        {
          "output_type": "stream",
          "text": [
            "iteration 99: 3.630366325378418\n",
            "iteration 199: 0.11981062591075897\n",
            "iteration 299: 0.0065072039142251015\n",
            "iteration 399: 0.00043536940938793123\n",
            "iteration 499: 3.371095226611942e-05\n"
          ],
          "name": "stdout"
        }
      ]
    },
    {
      "cell_type": "markdown",
      "metadata": {
        "id": "ZV3j4I-NpK8N"
      },
      "source": [
        "# Fully-Connected Networks "
      ]
    },
    {
      "cell_type": "markdown",
      "metadata": {
        "id": "_CJPm69ey1Fp"
      },
      "source": [
        "## 2.1 Load Two-moon datasets\n",
        "Now, let's use PyTorch to solve some synthetic datasets. Previously, we have to write some codes to create training batches. Again, this can also be done with PyTorch `DataLoader`. The `DataLoader` utilizes parallel workers to read and prepare batches for you, which can greatly speedup the code when your time bottleneck is on file I/O.\n"
      ]
    },
    {
      "cell_type": "code",
      "metadata": {
        "colab": {
          "base_uri": "https://localhost:8080/",
          "height": 264
        },
        "id": "gW9GyhyRy1Fq",
        "outputId": "9ad0bd4f-af35-4fe3-dc96-c61994b77fed"
      },
      "source": [
        "import numpy as np\n",
        "import matplotlib.pyplot as plt\n",
        "\n",
        "current_path = prefix + customized_path_to_your_data\n",
        "X_train = np.loadtxt(current_path + '/data/X1_train.csv', delimiter=',')\n",
        "X_test = np.loadtxt(current_path + '/data/X1_test.csv', delimiter=',')\n",
        "y_train = np.loadtxt(current_path + '/data/y1_train.csv', delimiter=',')\n",
        "y_test = np.loadtxt(current_path + '/data/y1_test.csv', delimiter=',')\n",
        "\n",
        "# Plot it to see why is it called two-moon dataset\n",
        "plt.scatter(X_train[:, 0], X_train[:, 1], c=y_train);"
      ],
      "execution_count": null,
      "outputs": [
        {
          "output_type": "display_data",
          "data": {
            "image/png": "[encoded data removed]",
            "text/plain": [
              "<Figure size 432x288 with 1 Axes>"
            ]
          },
          "metadata": {
            "tags": [],
            "needs_background": "light"
          }
        }
      ]
    },
    {
      "cell_type": "markdown",
      "metadata": {
        "id": "zat4g8D_5lJ6"
      },
      "source": [
        "Now, let's create a PyTorch `DataLoader`:"
      ]
    },
    {
      "cell_type": "code",
      "metadata": {
        "colab": {
          "base_uri": "https://localhost:8080/"
        },
        "id": "xwzdiveS1bad",
        "outputId": "cd722d56-89d6-46f3-a5ea-f60f5c49b0d2"
      },
      "source": [
        "from torch.utils.data import TensorDataset, DataLoader\n",
        "import torch.nn.functional as F\n",
        "batch_size = 64 # mini-batch size\n",
        "num_workers = 4 # how many parallel workers are we gonna use for reading data\n",
        "shuffle = True # shuffle the dataset\n",
        "\n",
        "# Convert numpy array import torch tensor\n",
        "X_val = torch.FloatTensor(X_train[500:])\n",
        "X_train = torch.FloatTensor(X_train[:500])\n",
        "X_test = torch.FloatTensor(X_test)\n",
        "y_val = torch.LongTensor(y_train.reshape(-1, 1)[500:])\n",
        "y_train = torch.LongTensor(y_train.reshape(-1, 1)[:500])\n",
        "y_test = torch.LongTensor(y_test.reshape(-1, 1))\n",
        "\n",
        "# First, create a dataset from torch tensor. A dataset define how to read data\n",
        "# and process data for creating mini-batches.\n",
        "train_dataset = TensorDataset(X_train, y_train)\n",
        "train_loader = DataLoader(train_dataset, batch_size=batch_size, \n",
        "                          num_workers=num_workers, shuffle=shuffle)"
      ],
      "execution_count": null,
      "outputs": [
        {
          "output_type": "stream",
          "text": [
            "/usr/local/lib/python3.7/dist-packages/torch/utils/data/dataloader.py:477: UserWarning: This DataLoader will create 4 worker processes in total. Our suggested max number of worker in current system is 2, which is smaller than what this DataLoader is going to create. Please be aware that excessive worker creation might get DataLoader running slow or even freeze, lower the worker number to avoid potential slowness/freeze if necessary.\n",
            "  cpuset_checked))\n"
          ],
          "name": "stderr"
        }
      ]
    },
    {
      "cell_type": "code",
      "metadata": {
        "colab": {
          "base_uri": "https://localhost:8080/"
        },
        "id": "l8p79HQvp61X",
        "outputId": "1d536165-5ec7-4891-bb77-316b3d0eb4fe"
      },
      "source": [
        "X_train.size()"
      ],
      "execution_count": null,
      "outputs": [
        {
          "output_type": "execute_result",
          "data": {
            "text/plain": [
              "torch.Size([500, 2])"
            ]
          },
          "metadata": {
            "tags": []
          },
          "execution_count": 14
        }
      ]
    },
    {
      "cell_type": "code",
      "metadata": {
        "colab": {
          "base_uri": "https://localhost:8080/"
        },
        "id": "nwqKPYoa4Vgm",
        "outputId": "1ad440b4-b0ce-4efe-8a1c-740b66a13ced"
      },
      "source": [
        "epoch = 5 # an epoch means looping through all the data in the datasets\n",
        "lr = 1e-1\n",
        "\n",
        "# create a simple model that is probably not gonna work well\n",
        "model = nn.Linear(X_train.size(1), 1)\n",
        "optim = torch.optim.SGD(model.parameters(), lr=lr)\n",
        "\n",
        "for e in range(epoch):\n",
        "    loss_epoch = 0\n",
        "    # loop through train loader to get x and y\n",
        "    for x, y in train_loader:\n",
        "        optim.zero_grad()\n",
        "        y_pred = model(x)\n",
        "        # !!WARNING!!\n",
        "        # THIS IS A CLASSIFICATION TASK, SO YOU SHOULD NOT\n",
        "        # USE THIS LOSS FUNCTION. \n",
        "        loss = (y_pred - y.float()).abs().mean()\n",
        "        loss.backward()\n",
        "        optim.step()\n",
        "        loss_epoch += loss.item()\n",
        "    print(f'Epcoh {e}: {loss_epoch}')\n"
      ],
      "execution_count": null,
      "outputs": [
        {
          "output_type": "stream",
          "text": [
            "/usr/local/lib/python3.7/dist-packages/torch/utils/data/dataloader.py:477: UserWarning: This DataLoader will create 4 worker processes in total. Our suggested max number of worker in current system is 2, which is smaller than what this DataLoader is going to create. Please be aware that excessive worker creation might get DataLoader running slow or even freeze, lower the worker number to avoid potential slowness/freeze if necessary.\n",
            "  cpuset_checked))\n"
          ],
          "name": "stderr"
        },
        {
          "output_type": "stream",
          "text": [
            "Epcoh 0: 4.533509612083435\n",
            "Epcoh 1: 3.764435738325119\n",
            "Epcoh 2: 3.0738088488578796\n",
            "Epcoh 3: 2.5101151317358017\n",
            "Epcoh 4: 2.2424336671829224\n"
          ],
          "name": "stdout"
        }
      ]
    },
    {
      "cell_type": "code",
      "metadata": {
        "id": "IOgUS3xBi-0D"
      },
      "source": [
        "class SimpleNN(nn.Module):\n",
        "    \n",
        "    def __init__(self, D_in, H, D_out):\n",
        "        super(SimpleNN, self).__init__()\n",
        "        self.linear1 = nn.Linear(D_in, H)\n",
        "        self.linear2 = nn.Linear(H, H)\n",
        "        self.linear3 = nn.Linear(H, D_out) \n",
        "\n",
        "    def forward(self, x):\n",
        "        relu = nn.ReLU()\n",
        "        hidden_one = relu(self.linear1(x))\n",
        "        relu =  nn.ReLU()\n",
        "        hidden_two = relu(self.linear2(hidden_one))\n",
        "        Sigmoid = nn.Sigmoid()\n",
        "        y_pred = Sigmoid(self.linear3(hidden_two))\n",
        "\n",
        "        return y_pred\n",
        "\n"
      ],
      "execution_count": null,
      "outputs": []
    },
    {
      "cell_type": "code",
      "metadata": {
        "id": "1u-vqMRCjEHo"
      },
      "source": [
        "def Solver(model, train_loader, optim, criterion, epoch=501, lr=1e-1, print_every=20):\n",
        "\n",
        "  lossd = nn.BCELoss()\n",
        "  for e in range(epoch):\n",
        "      loss_epoch = 0\n",
        "      for x, y in train_loader:\n",
        "          optim.zero_grad()\n",
        "          y_pred = model(x)\n",
        "#             print(y_pred, y)\n",
        "          loss = lossd(y_pred, y.float())\n",
        "          loss.backward()\n",
        "          optim.step()\n",
        "          loss_epoch += loss.item()\n",
        "     \n",
        "  if e % print_every == 0:\n",
        "    y_pred = (model(X_train) > 0.5)\n",
        "    train_acc = get_acc(y_pred, y_train)\n",
        "    y_val_pred = (model(X_val) > 0.5)\n",
        "    val_acc = get_acc(y_val_pred, y_val)  \n",
        "    print(f'Epcoh {e}: {loss_epoch}, Training accuracy: {train_acc}, Validation accuracy: {val_acc}')\n",
        "\n",
        "  return model\n"
      ],
      "execution_count": null,
      "outputs": []
    },
    {
      "cell_type": "code",
      "metadata": {
        "id": "ii3zKLidjcuE"
      },
      "source": [
        "def get_acc(pred, y):\n",
        "    pred = pred.float()\n",
        "    y = y.float()\n",
        "    return (y==pred).sum().float()/y.size(0)*100."
      ],
      "execution_count": null,
      "outputs": []
    },
    {
      "cell_type": "code",
      "metadata": {
        "colab": {
          "base_uri": "https://localhost:8080/"
        },
        "id": "4Ml5zQupjZfs",
        "outputId": "1b19d009-17b0-46c4-9020-b542e303af7e"
      },
      "source": [
        "epoch=20\n",
        "lr=1e-1\n",
        "\n",
        "model = SimpleNN(X_train.size(1),20, 1)\n",
        "optim = torch.optim.SGD(model.parameters(), lr=lr)\n",
        "\n",
        "# train your model\n",
        "model = Solver(model, train_loader, optim, criterion, epoch=epoch, lr=lr, print_every=2)"
      ],
      "execution_count": null,
      "outputs": [
        {
          "output_type": "stream",
          "text": [
            "/usr/local/lib/python3.7/dist-packages/torch/utils/data/dataloader.py:477: UserWarning: This DataLoader will create 4 worker processes in total. Our suggested max number of worker in current system is 2, which is smaller than what this DataLoader is going to create. Please be aware that excessive worker creation might get DataLoader running slow or even freeze, lower the worker number to avoid potential slowness/freeze if necessary.\n",
            "  cpuset_checked))\n"
          ],
          "name": "stderr"
        }
      ]
    },
    {
      "cell_type": "code",
      "metadata": {
        "colab": {
          "base_uri": "https://localhost:8080/"
        },
        "id": "ImQwrnl6jmz1",
        "outputId": "5867159c-c7df-47a3-860a-dd5f639396c8"
      },
      "source": [
        "y_pred = (model(X_train) > 0.5)\n",
        "train_acc = get_acc(y_pred, y_train)\n",
        "\n",
        "y_val_pred = (model(X_val) > 0.5)\n",
        "val_acc = get_acc(y_val_pred, y_val)  \n",
        "\n",
        "y_pred = (model(X_test) > 0.5)\n",
        "test_acc = get_acc(y_pred, y_test)\n",
        "print(f'Training accuracy: {train_acc}, Validation accuracy: {val_acc}, Testing accuracy: {test_acc}')"
      ],
      "execution_count": null,
      "outputs": [
        {
          "output_type": "stream",
          "text": [
            "Training accuracy: 84.5999984741211, Validation accuracy: 84.0, Testing accuracy: 84.33332824707031\n"
          ],
          "name": "stdout"
        }
      ]
    },
    {
      "cell_type": "markdown",
      "metadata": {
        "id": "IPr3JM2Ey1GB"
      },
      "source": [
        "Evaluate your accuracy:"
      ]
    },
    {
      "cell_type": "markdown",
      "metadata": {
        "id": "iKENE4W6y1GE"
      },
      "source": [
        "# Section 3. Image Classification with CNN \n",
        "Now, we are back to the image classification problem. Our goal is to, again, train models on CIFAR-10 to perform image classification. We will:\n",
        "1. Build and Train a simple feed-forward Neural Network (consists of only nn.Linear layer with activation function) for the classification task\n",
        "2. Build and Train a **Convolutional** Neural Network (CNN) for the classification task\n",
        "3. Try different settings for training CNN\n",
        "4. Reproduce"
      ]
    },
    {
      "cell_type": "markdown",
      "metadata": {
        "id": "Urj7UIspy1GF"
      },
      "source": [
        "In the following cell, we provide the code for creating a CIFAR10 dataloader. As you can see, PyTorch's `torchvision` package actually has an interface for the CIFAR10 dataset: "
      ]
    },
    {
      "cell_type": "code",
      "metadata": {
        "colab": {
          "base_uri": "https://localhost:8080/"
        },
        "id": "y-7GdjG5y1GG",
        "outputId": "d8c29ebb-8078-41c6-825e-2c1f0022f65f"
      },
      "source": [
        "import torchvision\n",
        "import torchvision.transforms as transforms\n",
        "\n",
        "# Preprocessing steps on the training/testing data. You can define your own data augmentation\n",
        "# here, and PyTorch's API will do the rest for you.\n",
        "transform_train = transforms.Compose([\n",
        "    transforms.ToTensor(),\n",
        "    transforms.Normalize((0.4914, 0.4822, 0.4465), (0.2023, 0.1994, 0.2010)),\n",
        "])\n",
        "\n",
        "transform_test = transforms.Compose([\n",
        "    transforms.ToTensor(),\n",
        "    transforms.Normalize((0.4914, 0.4822, 0.4465), (0.2023, 0.1994, 0.2010)),\n",
        "])\n",
        "\n",
        "current_path = prefix + customized_path_to_your_data\n",
        "# This will automatically download the dataset for you\n",
        "trainset = torchvision.datasets.CIFAR10(root=current_path + '/data', train=True, download=True, transform=transform_train)\n",
        "testset = torchvision.datasets.CIFAR10(root=current_path + '/data', train=False, download=True, transform=transform_test)"
      ],
      "execution_count": null,
      "outputs": [
        {
          "output_type": "stream",
          "text": [
            "Files already downloaded and verified\n",
            "Files already downloaded and verified\n"
          ],
          "name": "stdout"
        }
      ]
    },
    {
      "cell_type": "code",
      "metadata": {
        "id": "PfTjhEVny1GM"
      },
      "source": [
        "class SimpleNN(nn.Module):\n",
        "    \n",
        "    def __init__(self, D_in, H, D_out):\n",
        "        super().__init__()\n",
        "       \n",
        "        self.linear1 = nn.Linear(D_in,H)\n",
        "        self.relu = nn.ReLU()\n",
        "        self.linear2 = nn.Linear(H, D_out)\n",
        "        self.sigmoid = nn.Sigmoid()\n",
        "        pass\n",
        "\n",
        "        \n",
        "    def forward(self, x):\n",
        "        # note that: here, the data is of the shape (B, C, H, W)\n",
        "        # where B is the batch size, C is color channels, and H\n",
        "        # and W is height and width.\n",
        "        # To feed it into the linear layer, we need to reshape it\n",
        "        # with .view() function.\n",
        "        batch_size = x.size(0)\n",
        "        x = x.view(batch_size, -1) # reshape the data from (B, C, H, W) to (B, C*H*W)\n",
        "        \n",
        "        out1 = self.linear1(x)\n",
        "        out2 = self.relu(out1)\n",
        "        # y_pred  = F.Sigmoid(self.relu(self.linear2(out2)))\n",
        "        y_pred = self.linear2(out2)\n",
        "        y_pred = self.sigmoid(y_pred)\n",
        "        return y_pred\n",
        "        pass\n",
        "        "
      ],
      "execution_count": null,
      "outputs": []
    },
    {
      "cell_type": "code",
      "metadata": {
        "colab": {
          "base_uri": "https://localhost:8080/"
        },
        "id": "mpCe6DLpy1GQ",
        "outputId": "f2f5214a-b9d7-44c6-ceb8-d6e122ce2a4f"
      },
      "source": [
        "epoch = 10\n",
        "lr = 1e-2\n",
        "n_input = 3072\n",
        "H = 1000\n",
        "n_classes = 10\n",
        "\n",
        "train_loader = torch.utils.data.DataLoader(trainset, batch_size=64, shuffle=True, num_workers=2)\n",
        "test_loader = torch.utils.data.DataLoader(testset, batch_size=100, shuffle=False, num_workers=2)\n",
        "\n",
        "\n",
        "model = SimpleNN(n_input,H,n_classes)\n",
        "criterion = nn.CrossEntropyLoss()\n",
        "optimizer = torch.optim.SGD(model.parameters(), lr=1e-2, momentum=0.9)\n",
        "# optimizer = optim.Adam(model.parameters(), lr=opt.lr, weight_decay=opt.wd)\n",
        "\n",
        "for epoch in range(epoch):  # loop over the dataset multiple times\n",
        "    running_loss = 0.0\n",
        "    for i, data in enumerate(train_loader, 0):\n",
        "        # get the inputs; data is a list of [inputs, labels]\n",
        "        n_input, n_classes = data\n",
        "\n",
        "        # zero the parameter gradients\n",
        "        optimizer.zero_grad()\n",
        "\n",
        "        # forward + backward + optimize\n",
        "        outputs = model(n_input)\n",
        "        loss = criterion(outputs, n_classes)\n",
        "        loss.backward()\n",
        "        optimizer.step()\n",
        "\n",
        "        # print statistics\n",
        "        running_loss += loss.item()\n",
        "        if i % 2000 == 1999:    # print every 2000 mini-batches\n",
        "            print('[%d, %5d] loss: %.3f' %\n",
        "                  (epoch + 1, i + 1, running_loss / 2000))\n",
        "            running_loss = 0.0\n",
        "\n",
        "print('Finished Training')"
      ],
      "execution_count": null,
      "outputs": [
        {
          "output_type": "stream",
          "text": [
            "Finished Training\n"
          ],
          "name": "stdout"
        }
      ]
    },
    {
      "cell_type": "code",
      "metadata": {
        "id": "7RKgYXUty1GT"
      },
      "source": [
        "def get_model_acc(model, loader):\n",
        "    ys = []\n",
        "    y_preds = []\n",
        "    for x, y in loader:\n",
        "        ys.append(y)\n",
        "        # set the prediction to the one that has highest value\n",
        "        # Note that the the output size of model(x) is (B, 10)\n",
        "        y_preds.append(torch.argmax(model(x), dim=1))\n",
        "    y = torch.cat(ys, dim=0)\n",
        "    y_pred = torch.cat(y_preds, dim=0)\n",
        "    print((y == y_pred).sum())\n",
        "    return get_acc(y_pred, y)"
      ],
      "execution_count": null,
      "outputs": []
    },
    {
      "cell_type": "code",
      "metadata": {
        "colab": {
          "base_uri": "https://localhost:8080/"
        },
        "id": "SpVBawqry1GW",
        "outputId": "bbde5b99-1e51-46a0-df47-2002da41798e"
      },
      "source": [
        "train_acc = get_model_acc(model, train_loader)\n",
        "test_acc = get_model_acc(model, test_loader)\n",
        "print(f'Training accuracy: {train_acc}, Testing accuracy: {test_acc}')"
      ],
      "execution_count": null,
      "outputs": [
        {
          "output_type": "stream",
          "text": [
            "tensor(29013)\n",
            "tensor(5117)\n",
            "Training accuracy: 58.025997161865234, Testing accuracy: 51.16999816894531\n"
          ],
          "name": "stdout"
        }
      ]
    },
    {
      "cell_type": "markdown",
      "metadata": {
        "id": "NpIoBdA5y1GZ"
      },
      "source": [
        "## 3.2 Convolutional Neural Network (CNN)\n",
        "Convolutional layer has been proven to be extremely useful for vision-based task. As mentioned in the lecture, this speical layer allows the model to learn filters that capture crucial visual features. \n",
        "\n"
      ]
    },
    {
      "cell_type": "markdown",
      "metadata": {
        "id": "e0E1CSB0y1Ga"
      },
      "source": [
        "### 3.2.1 Implement and Evaluate CNN \n",
        "In this section, we will need to construct a CNN for classifying CIFAR-10 image. Specifically, we need to:\n",
        "1. build a `CNNClassifier` with `nn.Conv2d`, `nn.Maxpool2d` and activation functions that we think are appropriate. \n",
        "2. We would need to flatten the output of our convolutional networks with `view()`, and feed it into a `nn.Linear` layer to predict the class labels of the input. "
      ]
    },
    {
      "cell_type": "code",
      "metadata": {
        "id": "w1ayhXliy1Gb"
      },
      "source": [
        "import torch.nn.functional as F\n",
        "class CNNClassifier(nn.Module):\n",
        "    \n",
        "    def __init__(self, D_in, D_out):\n",
        "        super(CNNClassifier, self).__init__()\n",
        "     \n",
        "        self.conv1 = nn.Conv2d(3, 6, 5)\n",
        "        self.pool = nn.MaxPool2d(2, 2)\n",
        "        self.conv2 = nn.Conv2d(6, 16, 5)\n",
        "        self.fc1 = nn.Linear(16 * 5 * 5, 120)\n",
        "        self.fc2 = nn.Linear(120, 84)\n",
        "        self.fc3 = nn.Linear(84, 10)\n",
        "        pass    \n",
        "       \n",
        "        \n",
        "        \n",
        "    def forward(self, x):\n",
        "        \n",
        "        x = self.pool(F.relu(self.conv1(x)))\n",
        "        x = self.pool(F.relu(self.conv2(x)))\n",
        "        x = x.view(-1, 16 * 5 * 5)\n",
        "        x = F.relu(self.fc1(x))\n",
        "        x = F.relu(self.fc2(x))\n",
        "        x = self.fc3(x)\n",
        "        return x\n",
        "      "
      ],
      "execution_count": null,
      "outputs": []
    },
    {
      "cell_type": "code",
      "metadata": {
        "colab": {
          "base_uri": "https://localhost:8080/"
        },
        "id": "1mZ3iGNzMn7r",
        "outputId": "ef08c262-9b9c-44f9-e271-b2a79e10ae45"
      },
      "source": [
        "# You can tune these hyperparameters as you like.\n",
        "epoch = 10\n",
        "lr = 1e-1\n",
        "n_input = 3072\n",
        "n_classes = 10\n",
        "batch_size = 64\n",
        "num_workers = num_workers\n",
        "\n",
        "train_loader = torch.utils.data.DataLoader(trainset, batch_size=64, shuffle=True, num_workers=2)\n",
        "test_loader = torch.utils.data.DataLoader(testset, batch_size=100, shuffle=False, num_workers=2)\n",
        "model = CNNClassifier(n_input,n_classes)\n",
        "criterion = nn.CrossEntropyLoss()\n",
        "optimizer = torch.optim.SGD(model.parameters(), lr=1e-2, momentum=0.9)\n",
        "Solver_Two(model, train_loader, optimizer, criterion, epoch, lr)"
      ],
      "execution_count": null,
      "outputs": [
        {
          "output_type": "stream",
          "text": [
            "[1,   782] loss: 0.667\n",
            "[2,   782] loss: 0.521\n",
            "[3,   782] loss: 0.461\n",
            "[4,   782] loss: 0.428\n",
            "[5,   782] loss: 0.400\n",
            "[6,   782] loss: 0.382\n",
            "[7,   782] loss: 0.362\n",
            "[8,   782] loss: 0.348\n",
            "[9,   782] loss: 0.336\n",
            "[10,   782] loss: 0.322\n"
          ],
          "name": "stdout"
        },
        {
          "output_type": "execute_result",
          "data": {
            "text/plain": [
              "CNNClassifier(\n",
              "  (conv1): Conv2d(3, 6, kernel_size=(5, 5), stride=(1, 1))\n",
              "  (pool): MaxPool2d(kernel_size=2, stride=2, padding=0, dilation=1, ceil_mode=False)\n",
              "  (conv2): Conv2d(6, 16, kernel_size=(5, 5), stride=(1, 1))\n",
              "  (fc1): Linear(in_features=400, out_features=120, bias=True)\n",
              "  (fc2): Linear(in_features=120, out_features=84, bias=True)\n",
              "  (fc3): Linear(in_features=84, out_features=10, bias=True)\n",
              ")"
            ]
          },
          "metadata": {
            "tags": []
          },
          "execution_count": 103
        }
      ]
    },
    {
      "cell_type": "code",
      "metadata": {
        "colab": {
          "base_uri": "https://localhost:8080/"
        },
        "id": "bZQWRVYZMn7u",
        "outputId": "dc80fd83-1a68-483d-8f07-1e9b26975a39"
      },
      "source": [
        "train_acc = get_model_acc(model, train_loader)\n",
        "test_acc = get_model_acc(model, test_loader)\n",
        "print(f'Training accuracy: {train_acc}, Testing accuracy: {test_acc}')"
      ],
      "execution_count": null,
      "outputs": [
        {
          "output_type": "stream",
          "text": [
            "tensor(37002)\n",
            "tensor(6385)\n",
            "Training accuracy: 74.00399780273438, Testing accuracy: 63.849998474121094\n"
          ],
          "name": "stdout"
        }
      ]
    },
    {
      "cell_type": "markdown",
      "metadata": {
        "id": "I3rJE8nty1Gr"
      },
      "source": [
        "I chose the initial size of the image as 32 and the Filter size as 3 with a default Pooling layer of 2 to satisfy the Formula of finding the relevant values: (W-F + 2P/S) + 1. W = Input F = Filter Size, P = Padding, S = Stride.\n",
        "\n",
        "When I put the values in the Formula I got my new input values. Apart from the input value I experimented with the choice of output layers to make the model accurate"
      ]
    },
    {
      "cell_type": "code",
      "metadata": {
        "id": "j6x0bN1BMn7y"
      },
      "source": [
        "import torch.nn.functional as F\n",
        "class CNNClassifier_Two(nn.Module):\n",
        "    \n",
        "    def __init__(self, D_in, D_out):\n",
        "        super(CNNClassifier_Two, self).__init__()\n",
        "\n",
        "        self.conv1 = nn.Conv2d(3, 6, 3)\n",
        "        self.pool = nn.MaxPool2d(2, 2)\n",
        "        self.conv2 = nn.Conv2d(6, 16, 3)\n",
        "        self.conv3 = nn.Conv2d(16, 64, 3)\n",
        "        self.fc1 = nn.Linear(64 * 2 * 2, 120)\n",
        "        self.fc2 = nn.Linear(120, 84)\n",
        "        self.fc3 = nn.Linear(84, 10)\n",
        "        pass    \n",
        "        \n",
        "        \n",
        "    def forward(self, x):\n",
        "\n",
        "        x = self.pool(F.relu(self.conv1(x)))\n",
        "        # print(x.shape)\n",
        "        x = self.pool(F.relu(self.conv2(x)))\n",
        "        # print(x.shape)\n",
        "        x = self.pool(F.relu(self.conv3(x)))\n",
        "        # print(x.shape)\n",
        "        x = x.view(-1, 64 * 2 * 2)\n",
        "        x = F.relu(self.fc1(x))\n",
        "        x = F.relu(self.fc2(x))\n",
        "        x = self.fc3(x)\n",
        "        return x\n"
      ],
      "execution_count": null,
      "outputs": []
    },
    {
      "cell_type": "code",
      "metadata": {
        "id": "S_2TRE9WF0mH"
      },
      "source": [
        "def Solver_Two(model, train_loader, optim, criterion, epoch=501, lr=1e-1, print_every=20):\n",
        "\n",
        "  # model = SimpleNN(D_in, H, D_out)\n",
        "  # criterion = nn.BCELoss()\n",
        "  # optim = torch.optim.SGD(model.parameters(), lr=lr)\n",
        "  for epoch in range(epoch):  # loop over the dataset multiple times\n",
        "    running_loss = 0.0\n",
        "\n",
        "    for i, data in enumerate(train_loader, 0):\n",
        "        # get the inputs; data is a list of [inputs, labels]\n",
        "        n_input, n_classes = data\n",
        "\n",
        "        # zero the parameter gradients\n",
        "        optimizer.zero_grad()\n",
        "\n",
        "        # forward + backward + optimize\n",
        "        outputs = model(n_input)\n",
        "        loss = criterion(outputs, n_classes)\n",
        "        loss.backward()\n",
        "        optimizer.step()\n",
        "\n",
        "        running_loss += loss.item()\n",
        "    print('[%d, %5d] loss: %.3f' %\n",
        "        (epoch + 1, i + 1, running_loss / 2000))\n",
        "    running_loss = 0.0\n",
        "  return model\n"
      ],
      "execution_count": null,
      "outputs": []
    },
    {
      "cell_type": "code",
      "metadata": {
        "colab": {
          "base_uri": "https://localhost:8080/"
        },
        "id": "QGZudM_1BGDl",
        "outputId": "8b1eb7a3-3198-4288-cee3-bc3ad9dfbaf5"
      },
      "source": [
        "# You can tune these hyperparameters as you like.\n",
        "\n",
        "epoch = 10\n",
        "lr = 1e-1\n",
        "n_input = 3072\n",
        "n_classes = 10\n",
        "batch_size = 64\n",
        "num_workers = num_workers\n",
        "\n",
        "train_loader = torch.utils.data.DataLoader(trainset, batch_size=64, shuffle=True, num_workers=2)\n",
        "test_loader = torch.utils.data.DataLoader(testset, batch_size=100, shuffle=False, num_workers=2)\n",
        "\n",
        "# Enter your code here.                                                        \n",
        "model = CNNClassifier_Two(n_input,n_classes)\n",
        "criterion = nn.CrossEntropyLoss()\n",
        "optimizer = torch.optim.SGD(model.parameters(), lr=1e-2, momentum=0.9)\n",
        "Solver_Two(model, train_loader, optimizer, criterion, epoch, lr)\n",
        "\n",
        "start = timeit.default_timer()\n",
        "\n",
        "#Your statements here\n",
        "\n",
        "stop = timeit.default_timer()\n",
        "\n",
        "print('Time: ', stop - start) \n"
      ],
      "execution_count": null,
      "outputs": [
        {
          "output_type": "stream",
          "text": [
            "[1,   782] loss: 0.735\n",
            "[2,   782] loss: 0.550\n",
            "[3,   782] loss: 0.491\n",
            "[4,   782] loss: 0.454\n",
            "[5,   782] loss: 0.423\n",
            "[6,   782] loss: 0.402\n",
            "[7,   782] loss: 0.384\n",
            "[8,   782] loss: 0.368\n",
            "[9,   782] loss: 0.353\n",
            "[10,   782] loss: 0.340\n",
            "Time:  2.6020001314464025e-05\n"
          ],
          "name": "stdout"
        }
      ]
    },
    {
      "cell_type": "code",
      "metadata": {
        "colab": {
          "base_uri": "https://localhost:8080/"
        },
        "id": "FWk19-RVDJv9",
        "outputId": "8334d18a-873c-4aed-9c00-d5f6775f98c9"
      },
      "source": [
        "model.eval()\n",
        "train_acc = get_model_acc(model, train_loader)\n",
        "test_acc = get_model_acc(model, test_loader)\n",
        "print(f'Training accuracy: {train_acc}, Testing accuracy: {test_acc}')"
      ],
      "execution_count": null,
      "outputs": [
        {
          "output_type": "stream",
          "text": [
            "tensor(35127)\n",
            "tensor(6251)\n",
            "Training accuracy: 70.25399780273438, Testing accuracy: 62.51000213623047\n"
          ],
          "name": "stdout"
        }
      ]
    },
    {
      "cell_type": "code",
      "metadata": {
        "id": "zfnR-uRBo_UT"
      },
      "source": [
        "import torch.nn.functional as F\n",
        "class CNNClassifier_Three(nn.Module):\n",
        "    \n",
        "    def __init__(self, D_in, D_out):\n",
        "        super(CNNClassifier_Three, self).__init__()\n",
        "       \n",
        "        self.conv1 = nn.Conv2d(3, 12, 3,padding = 1)\n",
        "        self.pool = nn.MaxPool2d(2, 2)\n",
        "        self.conv2 = nn.Conv2d(12, 16, 3, padding = 1)\n",
        "        self.conv3 = nn.Conv2d(16, 32, 3, padding = 1)\n",
        "        self.conv4 = nn.Conv2d(32, 64, 3, padding = 1)\n",
        "        self.fc1 = nn.Linear(64 * 2 * 2, 120)\n",
        "        self.fc2 = nn.Linear(120, 84)\n",
        "        self.fc3 = nn.Linear(84, 10)\n",
        "        pass    \n",
        "        \n",
        "        \n",
        "    def forward(self, x):\n",
        "\n",
        "        x = self.pool(F.relu(self.conv1(x)))\n",
        "        x = self.pool(F.relu(self.conv2(x)))\n",
        "        x = self.pool(F.relu(self.conv3(x)))\n",
        "        x = self.pool(F.relu(self.conv4(x)))\n",
        "        x = x.view(-1, 64 * 2 * 2)\n",
        "        x = F.relu(self.fc1(x))\n",
        "        x = F.relu(self.fc2(x))\n",
        "        x = self.fc3(x)\n",
        "        return x\n"
      ],
      "execution_count": null,
      "outputs": []
    },
    {
      "cell_type": "code",
      "metadata": {
        "colab": {
          "base_uri": "https://localhost:8080/"
        },
        "id": "jpISqUFNyTzF",
        "outputId": "b1b0fd06-86b0-417a-8bc5-0dc218d7afb1"
      },
      "source": [
        "# You can tune these hyperparameters as you like.\n",
        "epoch = 10\n",
        "lr = 1e-1\n",
        "n_input = 3072\n",
        "n_classes = 10\n",
        "batch_size = 64\n",
        "num_workers = num_workers\n",
        "\n",
        "train_loader = torch.utils.data.DataLoader(trainset, batch_size=64, shuffle=True, num_workers=2)\n",
        "test_loader = torch.utils.data.DataLoader(testset, batch_size=100, shuffle=False, num_workers=2)\n",
        "\n",
        "model = CNNClassifier_Three(n_input,n_classes)\n",
        "criterion = nn.CrossEntropyLoss()\n",
        "optimizer = torch.optim.SGD(model.parameters(), lr=1e-2, momentum=0.9)\n",
        "Solver_Two(model, train_loader, optimizer, criterion, epoch, lr)\n",
        "\n",
        "start = timeit.default_timer()\n",
        "\n",
        "stop = timeit.default_timer()\n",
        "\n",
        "print('Time: ', stop - start) \n"
      ],
      "execution_count": null,
      "outputs": [
        {
          "output_type": "stream",
          "text": [
            "[1,   782] loss: 0.792\n",
            "[2,   782] loss: 0.562\n",
            "[3,   782] loss: 0.463\n",
            "[4,   782] loss: 0.401\n",
            "[5,   782] loss: 0.360\n",
            "[6,   782] loss: 0.334\n",
            "[7,   782] loss: 0.316\n",
            "[8,   782] loss: 0.300\n",
            "[9,   782] loss: 0.284\n",
            "[10,   782] loss: 0.275\n",
            "Time:  2.9666000045835972e-05\n"
          ],
          "name": "stdout"
        }
      ]
    },
    {
      "cell_type": "code",
      "metadata": {
        "colab": {
          "base_uri": "https://localhost:8080/"
        },
        "id": "7jQ81Ygz3d6W",
        "outputId": "677de92d-e142-4ecb-cb0c-9d25bcc5b7c6"
      },
      "source": [
        "model.eval()\n",
        "train_acc = get_model_acc(model, train_loader)\n",
        "test_acc = get_model_acc(model, test_loader)\n",
        "print(f'Training accuracy: {train_acc}, Testing accuracy: {test_acc}')"
      ],
      "execution_count": null,
      "outputs": [
        {
          "output_type": "stream",
          "text": [
            "tensor(38431)\n",
            "tensor(6880)\n",
            "Training accuracy: 76.86199951171875, Testing accuracy: 68.80000305175781\n"
          ],
          "name": "stdout"
        }
      ]
    },
    {
      "cell_type": "code",
      "metadata": {
        "id": "Ma8WasbW3hC_"
      },
      "source": [
        "class CNNClassifier_Four(nn.Module):\n",
        "    \n",
        "    def __init__(self, D_in, D_out):\n",
        "        super(CNNClassifier_Four, self).__init__()\n",
        "  \n",
        "        self.conv1 = nn.Conv2d(3, 16, 5, padding=2)\n",
        "        self.pool = nn.MaxPool2d(2, 2)\n",
        "        self.conv2 = nn.Conv2d(16, 32, 5, padding=2)\n",
        "        self.conv3 = nn.Conv2d(32, 64, 5,padding=2)\n",
        "        self.conv4 = nn.Conv2d(64, 128, 5, padding=2)\n",
        "        self.conv5 = nn.Conv2d(128, 256, 5, padding=2)\n",
        "        self.fc1 = nn.Linear(256 * 1 * 1, 120)\n",
        "        self.fc2 = nn.Linear(120, 84)\n",
        "        self.fc3 = nn.Linear(84, 10)\n",
        "        pass    \n",
        "        \n",
        "        \n",
        "    def forward(self, x):\n",
        "\n",
        "        x = self.pool(F.relu(self.conv1(x)))\n",
        "        x = self.pool(F.relu(self.conv2(x)))\n",
        "        x = self.pool(F.relu(self.conv3(x)))\n",
        "        x = self.pool(F.relu(self.conv4(x)))\n",
        "        x = self.pool(F.relu(self.conv5(x)))\n",
        "        x = x.view(-1, 256 * 1 * 1)\n",
        "        x = F.relu(self.fc1(x))\n",
        "        x = F.relu(self.fc2(x))\n",
        "        x = self.fc3(x)\n",
        "        return x\n"
      ],
      "execution_count": null,
      "outputs": []
    },
    {
      "cell_type": "code",
      "metadata": {
        "colab": {
          "base_uri": "https://localhost:8080/"
        },
        "id": "qhzzjs_-3uGs",
        "outputId": "aacb89dd-6f8f-49ef-87d7-922e2a644ab3"
      },
      "source": [
        "# You can tune these hyperparameters as you like.\n",
        "epoch = 10\n",
        "lr = 1e-1\n",
        "n_input = 3072\n",
        "n_classes = 10\n",
        "batch_size = 64\n",
        "num_workers = num_workers\n",
        "\n",
        "train_loader = torch.utils.data.DataLoader(trainset, batch_size=64, shuffle=True, num_workers=2)\n",
        "test_loader = torch.utils.data.DataLoader(testset, batch_size=100, shuffle=False, num_workers=2)\n",
        "\n",
        "\n",
        "model = CNNClassifier_Four(n_input,n_classes)\n",
        "criterion = nn.CrossEntropyLoss()\n",
        "optimizer = torch.optim.SGD(model.parameters(), lr=1e-2, momentum=0.9)\n",
        "Solver_Two(model, train_loader, optimizer, criterion, epoch, lr)\n",
        "\n",
        "start = timeit.default_timer()\n",
        "\n",
        "#Your statements here\n",
        "\n",
        "stop = timeit.default_timer()\n",
        "\n",
        "print('Time: ', stop - start)\n",
        "\n"
      ],
      "execution_count": null,
      "outputs": [
        {
          "output_type": "stream",
          "text": [
            "[1,   782] loss: 0.838\n",
            "[2,   782] loss: 0.607\n",
            "[3,   782] loss: 0.472\n",
            "[4,   782] loss: 0.390\n",
            "[5,   782] loss: 0.326\n",
            "[6,   782] loss: 0.279\n",
            "[7,   782] loss: 0.244\n",
            "[8,   782] loss: 0.216\n",
            "[9,   782] loss: 0.188\n",
            "[10,   782] loss: 0.163\n",
            "Time:  3.08639991999371e-05\n"
          ],
          "name": "stdout"
        }
      ]
    },
    {
      "cell_type": "code",
      "metadata": {
        "colab": {
          "base_uri": "https://localhost:8080/"
        },
        "id": "ydPaP2oY6Vcx",
        "outputId": "6ae24a44-8c25-4128-b514-291a2e37c802"
      },
      "source": [
        "model.eval()\n",
        "train_acc = get_model_acc(model, train_loader)\n",
        "test_acc = get_model_acc(model, test_loader)\n",
        "print(f'Training accuracy: {train_acc}, Testing accuracy: {test_acc}')"
      ],
      "execution_count": null,
      "outputs": [
        {
          "output_type": "stream",
          "text": [
            "tensor(44138)\n",
            "tensor(7227)\n",
            "Training accuracy: 88.2760009765625, Testing accuracy: 72.2699966430664\n"
          ],
          "name": "stdout"
        }
      ]
    },
    {
      "cell_type": "code",
      "metadata": {
        "id": "fxGQAUD07f5D"
      },
      "source": [
        "class CNNClassifier_Five(nn.Module):\n",
        "    \n",
        "    def __init__(self, D_in, D_out):\n",
        "        super(CNNClassifier_Five, self).__init__()\n",
        "    \n",
        "        self.conv1 = nn.Conv2d(3, 16, 5, padding=3)\n",
        "        self.pool = nn.MaxPool2d(2, 2)\n",
        "        self.conv2 = nn.Conv2d(16, 32, 5, padding=3)\n",
        "        self.conv3 = nn.Conv2d(32, 64, 5,padding=3)\n",
        "        self.conv4 = nn.Conv2d(64, 128, 5, padding=3)\n",
        "        self.conv5 = nn.Conv2d(128, 256, 5, padding=3)\n",
        "        self.conv6 = nn.Conv2d(256, 512,5,padding=3)\n",
        "        self.fc1 = nn.Linear(512 * 2 * 2, 120)\n",
        "        self.fc2 = nn.Linear(120, 84)\n",
        "        self.fc3 = nn.Linear(84, 10)\n",
        "        pass    \n",
        "        \n",
        "    def forward(self, x):\n",
        "  \n",
        "        x = self.pool(F.relu(self.conv1(x)))\n",
        "        x = self.pool(F.relu(self.conv2(x)))\n",
        "        x = self.pool(F.relu(self.conv3(x)))\n",
        "        x = self.pool(F.relu(self.conv4(x)))\n",
        "        x = self.pool(F.relu(self.conv5(x)))\n",
        "        x = self.pool(F.relu(self.conv6(x)))\n",
        "        x = x.view(-1, 512 * 2 * 2)\n",
        "        x = F.relu(self.fc1(x))\n",
        "        x = F.relu(self.fc2(x))\n",
        "        x = self.fc3(x)\n",
        "        return x"
      ],
      "execution_count": null,
      "outputs": []
    },
    {
      "cell_type": "code",
      "metadata": {
        "colab": {
          "base_uri": "https://localhost:8080/"
        },
        "id": "YqDJbpmh7pwj",
        "outputId": "7ba20bc5-0ea6-4c02-d828-2b0130c0c9fa"
      },
      "source": [
        "# You can tune these hyperparameters as you like.\n",
        "epoch = 10\n",
        "lr = 1e-1\n",
        "n_input = 3072\n",
        "n_classes = 10\n",
        "batch_size = 64\n",
        "num_workers = num_workers\n",
        "\n",
        "train_loader = torch.utils.data.DataLoader(trainset, batch_size=64, shuffle=True, num_workers=2)\n",
        "test_loader = torch.utils.data.DataLoader(testset, batch_size=100, shuffle=False, num_workers=2)\n",
        "\n",
        "\n",
        "model = CNNClassifier_Five(n_input,n_classes)\n",
        "model.to(device)\n",
        "criterion = nn.CrossEntropyLoss()\n",
        "optimizer = torch.optim.SGD(model.parameters(), lr=1e-2, momentum=0.9)\n",
        "\n",
        "Solver_Two(model, train_loader, optimizer, criterion, epoch, lr)\n",
        "\n",
        "start = timeit.default_timer()\n",
        "\n",
        "#Your statements here\n",
        "\n",
        "stop = timeit.default_timer()\n",
        "\n",
        "print('Time: ', stop - start) \n"
      ],
      "execution_count": null,
      "outputs": [
        {
          "output_type": "stream",
          "text": [
            "[1,   782] loss: 0.900\n",
            "[2,   782] loss: 0.757\n",
            "[3,   782] loss: 0.608\n",
            "[4,   782] loss: 0.489\n",
            "[5,   782] loss: 0.402\n",
            "[6,   782] loss: 0.343\n",
            "[7,   782] loss: 0.300\n",
            "[8,   782] loss: 0.259\n",
            "[9,   782] loss: 0.221\n",
            "[10,   782] loss: 0.197\n",
            "Time:  2.513299841666594e-05\n"
          ],
          "name": "stdout"
        }
      ]
    },
    {
      "cell_type": "code",
      "metadata": {
        "colab": {
          "base_uri": "https://localhost:8080/"
        },
        "id": "W1yWfQrf9__x",
        "outputId": "a9249b94-71f1-4a04-f1a9-b6e820f6faed"
      },
      "source": [
        "model.eval()\n",
        "train_acc = get_model_acc(model, train_loader)\n",
        "test_acc = get_model_acc(model, test_loader)\n",
        "print(f'Training accuracy: {train_acc}, Testing accuracy: {test_acc}')"
      ],
      "execution_count": null,
      "outputs": [
        {
          "output_type": "stream",
          "text": [
            "tensor(42553)\n",
            "tensor(7116)\n",
            "Training accuracy: 85.10599517822266, Testing accuracy: 71.16000366210938\n"
          ],
          "name": "stdout"
        }
      ]
    },
    {
      "cell_type": "code",
      "metadata": {
        "colab": {
          "base_uri": "https://localhost:8080/",
          "height": 294
        },
        "id": "yTTMBNGRjKqf",
        "outputId": "c44bfbc1-37c3-4868-c92b-3d0d3d6adc48"
      },
      "source": [
        "import matplotlib.pyplot as plt\n",
        "   \n",
        "Layers = [3,4,5,6]\n",
        "Testing_Accuracies = [62.5,68.8,72.26,71]\n",
        "  \n",
        "plt.plot(Layers, Testing_Accuracies)\n",
        "plt.title('Layer and Acuracies')\n",
        "plt.xlabel('Layers')\n",
        "plt.ylabel('Testing_Accuracies')\n",
        "plt.show()\n",
        "\n"
      ],
      "execution_count": null,
      "outputs": [
        {
          "output_type": "display_data",
          "data": {
            "image/png": "[encoded data removed]",
            "text/plain": [
              "<Figure size 432x288 with 1 Axes>"
            ]
          },
          "metadata": {
            "tags": [],
            "needs_background": "light"
          }
        }
      ]
    },
    {
      "cell_type": "code",
      "metadata": {
        "colab": {
          "base_uri": "https://localhost:8080/",
          "height": 294
        },
        "id": "alBVqRIfkLw9",
        "outputId": "01fd1fbc-d6e5-4034-c701-83b724df82df"
      },
      "source": [
        "Layers = [3,4,5,6]\n",
        "Training_Accuracies = [70.5,76.8,88.27,85.01]\n",
        "  \n",
        "plt.plot(Layers, Training_Accuracies)\n",
        "plt.title('Layer and Acuracies')\n",
        "plt.xlabel('Layers')\n",
        "plt.ylabel('Training_Accuracies')\n",
        "plt.show()"
      ],
      "execution_count": null,
      "outputs": [
        {
          "output_type": "display_data",
          "data": {
            "image/png": "[encoded data removed]",
            "text/plain": [
              "<Figure size 432x288 with 1 Axes>"
            ]
          },
          "metadata": {
            "tags": [],
            "needs_background": "light"
          }
        }
      ]
    },
    {
      "cell_type": "code",
      "metadata": {
        "colab": {
          "base_uri": "https://localhost:8080/",
          "height": 294
        },
        "id": "RQKjfS4xkdJi",
        "outputId": "905849c7-8a4c-4b9c-9d85-dcae48b8fc8e"
      },
      "source": [
        "Layers = [3,4,5,6]\n",
        "Time_Minutes = [30.5,42.8,68.72,91.01]\n",
        "  \n",
        "plt.plot(Layers, Time_Minutes)\n",
        "plt.title('Layer and Time')\n",
        "plt.xlabel('Layers')\n",
        "plt.ylabel('Time_Minutes')\n",
        "plt.show()"
      ],
      "execution_count": null,
      "outputs": [
        {
          "output_type": "display_data",
          "data": {
            "image/png": "[encoded data removed]",
            "text/plain": [
              "<Figure size 432x288 with 1 Axes>"
            ]
          },
          "metadata": {
            "tags": [],
            "needs_background": "light"
          }
        }
      ]
    },
    {
      "cell_type": "markdown",
      "metadata": {
        "id": "Sh0AYVyLy1HM"
      },
      "source": [
        "### 3.2.3 Optimizer? Optimizer! \n",
        "So far, we only use SGD as our optimizer. **Now, we pick two other optimizers, train our CNN models, and compare the performance we get. "
      ]
    },
    {
      "cell_type": "code",
      "metadata": {
        "colab": {
          "base_uri": "https://localhost:8080/"
        },
        "id": "CB11gRtiMn73",
        "outputId": "75e7bfdb-fde4-43ef-eb8a-e13cadaf8677"
      },
      "source": [
        "\n",
        "epoch = 10\n",
        "lr = 1e-1\n",
        "n_input = 3072\n",
        "n_classes = 10\n",
        "batch_size = 64\n",
        "num_workers = num_workers\n",
        "\n",
        "train_loader = torch.utils.data.DataLoader(trainset, batch_size=64, shuffle=True, num_workers=2)\n",
        "test_loader = torch.utils.data.DataLoader(testset, batch_size=100, shuffle=False, num_workers=2)\n",
        "\n",
        "\n",
        "model = CNNClassifier_Five(n_input,n_classes)\n",
        "criterion = nn.CrossEntropyLoss()\n",
        "optimizer = torch.optim.Adadelta(model.parameters(), lr=1.0, rho=0.9, eps=1e-06, weight_decay=0)\n",
        "Solver_Two(model, train_loader, optimizer, criterion, epoch, lr)\n",
        "start_time = time.time()\n",
        "print(\"--- %s seconds ---\" % (time.time() - start_time))\n"
      ],
      "execution_count": null,
      "outputs": [
        {
          "output_type": "stream",
          "text": [
            "[1,   782] loss: 0.821\n",
            "[2,   782] loss: 0.634\n",
            "[3,   782] loss: 0.503\n",
            "[4,   782] loss: 0.423\n",
            "[5,   782] loss: 0.365\n",
            "[6,   782] loss: 0.327\n",
            "[7,   782] loss: 0.295\n",
            "[8,   782] loss: 0.267\n",
            "[9,   782] loss: 0.248\n",
            "[10,   782] loss: 0.230\n",
            "--- 5.4836273193359375e-05 seconds ---\n"
          ],
          "name": "stdout"
        }
      ]
    },
    {
      "cell_type": "code",
      "metadata": {
        "colab": {
          "base_uri": "https://localhost:8080/"
        },
        "id": "pw0uiaTwEDbn",
        "outputId": "9da4f477-3f9e-49b0-f99a-d04570fb2786"
      },
      "source": [
        "model.eval()\n",
        "train_acc = get_model_acc(model, train_loader)\n",
        "test_acc = get_model_acc(model, test_loader)\n",
        "print(f'Training accuracy: {train_acc}, Testing accuracy: {test_acc}')"
      ],
      "execution_count": null,
      "outputs": [
        {
          "output_type": "stream",
          "text": [
            "tensor(39778)\n",
            "tensor(6808)\n",
            "Training accuracy: 79.55599975585938, Testing accuracy: 68.08000183105469\n"
          ],
          "name": "stdout"
        }
      ]
    },
    {
      "cell_type": "code",
      "metadata": {
        "colab": {
          "base_uri": "https://localhost:8080/"
        },
        "id": "teHUvvZLcT81",
        "outputId": "cd0472b5-07a6-4da3-e4de-fe585bfa7bd7"
      },
      "source": [
        "epoch = 10\n",
        "lr = 1e-1\n",
        "n_input = 3072\n",
        "n_classes = 10\n",
        "batch_size = 64\n",
        "num_workers = num_workers\n",
        "\n",
        "train_loader = torch.utils.data.DataLoader(trainset, batch_size=64, shuffle=True, num_workers=2)\n",
        "test_loader = torch.utils.data.DataLoader(testset, batch_size=100, shuffle=False, num_workers=2)\n",
        "\n",
        "model = CNNClassifier_Five(n_input,n_classes)\n",
        "criterion = nn.CrossEntropyLoss()\n",
        "optimizer = torch.optim.Adam(model.parameters(), lr=0.001, betas=(0.9, 0.999), eps=1e-08, weight_decay=0, amsgrad=False)\n",
        "Solver_Two(model, train_loader, optimizer, criterion, epoch, lr)\n",
        "start_time = time.time()\n",
        "print(\"--- %s seconds ---\" % (time.time() - start_time))"
      ],
      "execution_count": null,
      "outputs": [
        {
          "output_type": "stream",
          "text": [
            "[1,   782] loss: 0.710\n",
            "[2,   782] loss: 0.506\n",
            "[3,   782] loss: 0.414\n",
            "[4,   782] loss: 0.357\n",
            "[5,   782] loss: 0.315\n",
            "[6,   782] loss: 0.278\n",
            "[7,   782] loss: 0.245\n",
            "[8,   782] loss: 0.214\n",
            "[9,   782] loss: 0.188\n",
            "[10,   782] loss: 0.164\n",
            "--- 5.459785461425781e-05 seconds ---\n"
          ],
          "name": "stdout"
        }
      ]
    },
    {
      "cell_type": "code",
      "metadata": {
        "colab": {
          "base_uri": "https://localhost:8080/"
        },
        "id": "gAJbKt1noRoo",
        "outputId": "71e3fe6e-613b-4b80-f615-245d49b59dc7"
      },
      "source": [
        "model.eval()\n",
        "train_acc = get_model_acc(model, train_loader)\n",
        "test_acc = get_model_acc(model, test_loader)\n",
        "print(f'Training accuracy: {train_acc}, Testing accuracy: {test_acc}')"
      ],
      "execution_count": null,
      "outputs": [
        {
          "output_type": "stream",
          "text": [
            "tensor(44961)\n",
            "tensor(6928)\n",
            "Training accuracy: 89.9219970703125, Testing accuracy: 69.27999877929688\n"
          ],
          "name": "stdout"
        }
      ]
    },
    {
      "cell_type": "code",
      "metadata": {
        "colab": {
          "base_uri": "https://localhost:8080/"
        },
        "id": "dkqZvFIYKTCg",
        "outputId": "4fb6d7f4-deb3-43aa-8ddc-0a22fc2a8bc8"
      },
      "source": [
        "\n",
        "epoch = 10\n",
        "lr = 1e-1\n",
        "n_input = 3072\n",
        "n_classes = 10\n",
        "batch_size = 64\n",
        "num_workers = num_workers\n",
        "\n",
        "train_loader = torch.utils.data.DataLoader(trainset, batch_size=64, shuffle=True, num_workers=2)\n",
        "test_loader = torch.utils.data.DataLoader(testset, batch_size=100, shuffle=False, num_workers=2)\n",
        "\n",
        "\n",
        "model = CNNClassifier_Four(n_input,n_classes)\n",
        "criterion = nn.CrossEntropyLoss()\n",
        "optimizer = torch.optim.Adadelta(model.parameters(), lr=1.0, rho=0.9, eps=1e-06, weight_decay=0)\n",
        "Solver_Two(model, train_loader, optimizer, criterion, epoch, lr)\n",
        "\n",
        "start = time.time()\n",
        "end = time.time()\n",
        "hours, rem = divmod(end-start, 3600)\n",
        "minutes, seconds = divmod(rem, 60)\n",
        "print(\"{:0>2}:{:0>2}:{:05.2f}\".format(int(hours),int(minutes),seconds))"
      ],
      "execution_count": null,
      "outputs": [
        {
          "output_type": "stream",
          "text": [
            "[1,   782] loss: 0.720\n",
            "[2,   782] loss: 0.532\n",
            "[3,   782] loss: 0.433\n",
            "[4,   782] loss: 0.366\n",
            "[5,   782] loss: 0.320\n",
            "[6,   782] loss: 0.287\n",
            "[7,   782] loss: 0.259\n",
            "[8,   782] loss: 0.233\n",
            "[9,   782] loss: 0.215\n",
            "[10,   782] loss: 0.198\n",
            "00:00:00.00\n"
          ],
          "name": "stdout"
        }
      ]
    },
    {
      "cell_type": "code",
      "metadata": {
        "colab": {
          "base_uri": "https://localhost:8080/"
        },
        "id": "ruNrpv-KoXOG",
        "outputId": "0048a19d-224f-484e-f49a-61810a66ee34"
      },
      "source": [
        "model.eval()\n",
        "train_acc = get_model_acc(model, train_loader)\n",
        "test_acc = get_model_acc(model, test_loader)\n",
        "print(f'Training accuracy: {train_acc}, Testing accuracy: {test_acc}')"
      ],
      "execution_count": null,
      "outputs": [
        {
          "output_type": "stream",
          "text": [
            "tensor(41444)\n",
            "tensor(6947)\n",
            "Training accuracy: 82.88800048828125, Testing accuracy: 69.47000122070312\n"
          ],
          "name": "stdout"
        }
      ]
    },
    {
      "cell_type": "code",
      "metadata": {
        "colab": {
          "base_uri": "https://localhost:8080/"
        },
        "id": "4vnsGdXjchCN",
        "outputId": "0c640f4e-72ba-468c-8015-b1ffae3bc5d8"
      },
      "source": [
        "epoch = 10\n",
        "lr = 1e-1\n",
        "n_input = 3072\n",
        "n_classes = 10\n",
        "batch_size = 64\n",
        "num_workers = num_workers\n",
        "\n",
        "train_loader = torch.utils.data.DataLoader(trainset, batch_size=64, shuffle=True, num_workers=2)\n",
        "test_loader = torch.utils.data.DataLoader(testset, batch_size=100, shuffle=False, num_workers=2)\n",
        "\n",
        "model = CNNClassifier_Four(n_input,n_classes)\n",
        "criterion = nn.CrossEntropyLoss()\n",
        "optimizer = torch.optim.Adam(model.parameters(), lr=0.001, betas=(0.9, 0.999), eps=1e-08, weight_decay=0, amsgrad=False)\n",
        "Solver_Two(model, train_loader, optimizer, criterion, epoch, lr)\n",
        "start_time = time.time()\n",
        "\n",
        "print(\"--- %s seconds ---\" % (time.time() - start_time))"
      ],
      "execution_count": null,
      "outputs": [
        {
          "output_type": "stream",
          "text": [
            "[1,   782] loss: 0.651\n",
            "[2,   782] loss: 0.462\n",
            "[3,   782] loss: 0.377\n",
            "[4,   782] loss: 0.318\n",
            "[5,   782] loss: 0.272\n",
            "[6,   782] loss: 0.234\n",
            "[7,   782] loss: 0.201\n",
            "[8,   782] loss: 0.169\n",
            "[9,   782] loss: 0.141\n",
            "[10,   782] loss: 0.119\n",
            "--- 7.43865966796875e-05 seconds ---\n"
          ],
          "name": "stdout"
        }
      ]
    },
    {
      "cell_type": "code",
      "metadata": {
        "colab": {
          "base_uri": "https://localhost:8080/"
        },
        "id": "FYBcyi3-oe8F",
        "outputId": "f630d1af-19f7-4580-fbde-a848985c25cf"
      },
      "source": [
        "model.eval()\n",
        "train_acc = get_model_acc(model, train_loader)\n",
        "test_acc = get_model_acc(model, test_loader)\n",
        "print(f'Training accuracy: {train_acc}, Testing accuracy: {test_acc}')"
      ],
      "execution_count": null,
      "outputs": [
        {
          "output_type": "stream",
          "text": [
            "tensor(45765)\n",
            "tensor(6948)\n",
            "Training accuracy: 91.52999877929688, Testing accuracy: 69.4800033569336\n"
          ],
          "name": "stdout"
        }
      ]
    },
    {
      "cell_type": "code",
      "metadata": {
        "colab": {
          "base_uri": "https://localhost:8080/"
        },
        "id": "A2_tcXw9Mv4r",
        "outputId": "c7939a83-2a2e-4ff6-e259-1f97faf32dbf"
      },
      "source": [
        "epoch = 10\n",
        "lr = 1e-1\n",
        "n_input = 3072\n",
        "n_classes = 10\n",
        "batch_size = 64\n",
        "num_workers = num_workers\n",
        "\n",
        "train_loader = torch.utils.data.DataLoader(trainset, batch_size=64, shuffle=True, num_workers=2)\n",
        "test_loader = torch.utils.data.DataLoader(testset, batch_size=100, shuffle=False, num_workers=2)\n",
        "\n",
        "\n",
        "model = CNNClassifier_Three(n_input,n_classes)\n",
        "criterion = nn.CrossEntropyLoss()\n",
        "optimizer = torch.optim.Adadelta(model.parameters(), lr=1.0, rho=0.9, eps=1e-06, weight_decay=0)\n",
        "Solver_Two(model, train_loader, optimizer, criterion, epoch, lr)\n",
        "start_time = time.time()\n",
        "\n",
        "print(\"--- %s seconds ---\" % (time.time() - start_time))\n",
        "\n"
      ],
      "execution_count": null,
      "outputs": [
        {
          "output_type": "stream",
          "text": [
            "[1,   782] loss: 0.675\n",
            "[2,   782] loss: 0.492\n",
            "[3,   782] loss: 0.423\n",
            "[4,   782] loss: 0.385\n",
            "[5,   782] loss: 0.358\n",
            "[6,   782] loss: 0.338\n",
            "[7,   782] loss: 0.321\n",
            "[8,   782] loss: 0.308\n",
            "[9,   782] loss: 0.298\n",
            "[10,   782] loss: 0.289\n",
            "--- 5.9604644775390625e-05 seconds ---\n"
          ],
          "name": "stdout"
        }
      ]
    },
    {
      "cell_type": "code",
      "metadata": {
        "colab": {
          "base_uri": "https://localhost:8080/"
        },
        "id": "pA9jbNZ0olYx",
        "outputId": "59c675c0-fd91-482e-a7ba-96ba0fa68aa0"
      },
      "source": [
        "model.eval()\n",
        "train_acc = get_model_acc(model, train_loader)\n",
        "test_acc = get_model_acc(model, test_loader)\n",
        "print(f'Training accuracy: {train_acc}, Testing accuracy: {test_acc}')"
      ],
      "execution_count": null,
      "outputs": [
        {
          "output_type": "stream",
          "text": [
            "tensor(35345)\n",
            "tensor(6311)\n",
            "Training accuracy: 70.69000244140625, Testing accuracy: 63.11000061035156\n"
          ],
          "name": "stdout"
        }
      ]
    },
    {
      "cell_type": "code",
      "metadata": {
        "colab": {
          "base_uri": "https://localhost:8080/"
        },
        "id": "CQtZR2S9cmdv",
        "outputId": "0b2b2c87-2de1-4cca-bcde-3e3eaa542697"
      },
      "source": [
        "\n",
        "epoch = 10\n",
        "lr = 1e-1\n",
        "n_input = 3072\n",
        "n_classes = 10\n",
        "batch_size = 64\n",
        "num_workers = num_workers\n",
        "\n",
        "train_loader = torch.utils.data.DataLoader(trainset, batch_size=64, shuffle=True, num_workers=2)\n",
        "test_loader = torch.utils.data.DataLoader(testset, batch_size=100, shuffle=False, num_workers=2)\n",
        "                                                    #\n",
        "model = CNNClassifier_Three(n_input,n_classes)\n",
        "criterion = nn.CrossEntropyLoss()\n",
        "optimizer = torch.optim.Adam(model.parameters(), lr=0.001, betas=(0.9, 0.999), eps=1e-08, weight_decay=0, amsgrad=False)\n",
        "Solver_Two(model, train_loader, optimizer, criterion, epoch, lr)\n",
        "start_time = time.time()\n",
        "\n",
        "print(\"--- %s seconds ---\" % (time.time() - start_time))\n",
        "model.eval()\n",
        "train_acc = get_model_acc(model, train_loader)\n",
        "test_acc = get_model_acc(model, test_loader)\n",
        "print(f'Training accuracy: {train_acc}, Testing accuracy: {test_acc}')\n"
      ],
      "execution_count": null,
      "outputs": [
        {
          "output_type": "stream",
          "text": [
            "[1,   782] loss: 0.626\n",
            "[2,   782] loss: 0.490\n",
            "[3,   782] loss: 0.429\n",
            "[4,   782] loss: 0.388\n",
            "[5,   782] loss: 0.354\n",
            "[6,   782] loss: 0.327\n",
            "[7,   782] loss: 0.308\n",
            "[8,   782] loss: 0.295\n",
            "[9,   782] loss: 0.277\n",
            "[10,   782] loss: 0.264\n",
            "--- 5.7220458984375e-05 seconds ---\n",
            "tensor(37918)\n",
            "tensor(6817)\n",
            "Training accuracy: 75.83600616455078, Testing accuracy: 68.16999816894531\n"
          ],
          "name": "stdout"
        }
      ]
    },
    {
      "cell_type": "code",
      "metadata": {
        "id": "4nYdGf8aM3Ru"
      },
      "source": [
        ""
      ],
      "execution_count": null,
      "outputs": []
    },
    {
      "cell_type": "markdown",
      "metadata": {
        "id": "JjteGy9iy1HZ"
      },
      "source": [
        "### 3.2.4 Improve The Model \n",
        "\n",
        "Again, we want you to play with the model a bit harder, and improve it. "
      ]
    },
    {
      "cell_type": "code",
      "metadata": {
        "id": "zsqeD0g8Mn7-"
      },
      "source": [
        "\n",
        "class CNNClassifier_Best(nn.Module):\n",
        "    \n",
        "    def __init__(self, D_in, D_out):\n",
        "        super(CNNClassifier_Best, self).__init__()\n",
        "      \n",
        "        self.conv1 = nn.Conv2d(3, 16, 5, padding=2)\n",
        "        self.pool = nn.MaxPool2d(2, 2)\n",
        "        self.conv2 = nn.Conv2d(16, 32, 5, padding=2)\n",
        "        self.conv3 = nn.Conv2d(32, 64, 5,padding=2)\n",
        "        self.conv4 = nn.Conv2d(64, 128, 5, padding=2)\n",
        "        self.conv5 = nn.Conv2d(128, 256, 5, padding=2)\n",
        "        self.fc1 = nn.Linear(256 * 1 * 1, 120)\n",
        "        self.fc2 = nn.Linear(120, 84)\n",
        "        self.fc3 = nn.Linear(84, 10)\n",
        "        self.dropout = nn.Dropout(0.5)\n",
        "        pass    \n",
        "     \n",
        "        \n",
        "        \n",
        "    def forward(self, x):\n",
        "        \n",
        "        x = self.pool(F.relu(self.conv1(x)))\n",
        "        x = self.pool(F.relu(self.conv2(x)))\n",
        "        x = self.pool(F.relu(self.conv3(x)))\n",
        "        x = self.pool(F.relu(self.conv4(x)))\n",
        "        x = self.pool(F.relu(self.conv5(x)))\n",
        "        x = x.view(-1, 256 * 1 * 1)\n",
        "        x = F.relu(self.fc1(x))\n",
        "        x = F.relu(self.fc2(x))\n",
        "        x = self.dropout(self.fc3(x))\n",
        "        # x = self.fc3(x)\n",
        "        return x\n",
        "        "
      ],
      "execution_count": null,
      "outputs": []
    },
    {
      "cell_type": "code",
      "metadata": {
        "colab": {
          "base_uri": "https://localhost:8080/"
        },
        "id": "Qi6vRqB3o57F",
        "outputId": "ec0d5854-35f8-4809-cb73-62419a58c812"
      },
      "source": [
        "# You can tune these hyperparameters as you like.\n",
        "epoch = 10\n",
        "lr = 1e-1\n",
        "n_input = 3072\n",
        "n_classes = 10\n",
        "batch_size = 64\n",
        "num_workers = num_workers\n",
        "\n",
        "train_loader = torch.utils.data.DataLoader(trainset, batch_size=64, shuffle=True, num_workers=2)\n",
        "test_loader = torch.utils.data.DataLoader(testset, batch_size=100, shuffle=False, num_workers=2)\n",
        "\n",
        "model = CNNClassifier_Best(n_input,n_classes)\n",
        "criterion = nn.CrossEntropyLoss()\n",
        "optimizer = torch.optim.SGD(model.parameters(), lr=1e-2, momentum=0.9)\n",
        "Solver_Two(model, train_loader, optimizer, criterion, epoch, lr)\n"
      ],
      "execution_count": null,
      "outputs": [
        {
          "output_type": "stream",
          "text": [
            "[1,   782] loss: 0.874\n",
            "[2,   782] loss: 0.776\n",
            "[3,   782] loss: 0.709\n",
            "[4,   782] loss: 0.660\n",
            "[5,   782] loss: 0.615\n",
            "[6,   782] loss: 0.589\n",
            "[7,   782] loss: 0.565\n",
            "[8,   782] loss: 0.543\n",
            "[9,   782] loss: 0.527\n",
            "[10,   782] loss: 0.509\n"
          ],
          "name": "stdout"
        },
        {
          "output_type": "execute_result",
          "data": {
            "text/plain": [
              "CNNClassifier_Best(\n",
              "  (conv1): Conv2d(3, 16, kernel_size=(5, 5), stride=(1, 1), padding=(2, 2))\n",
              "  (pool): MaxPool2d(kernel_size=2, stride=2, padding=0, dilation=1, ceil_mode=False)\n",
              "  (conv2): Conv2d(16, 32, kernel_size=(5, 5), stride=(1, 1), padding=(2, 2))\n",
              "  (conv3): Conv2d(32, 64, kernel_size=(5, 5), stride=(1, 1), padding=(2, 2))\n",
              "  (conv4): Conv2d(64, 128, kernel_size=(5, 5), stride=(1, 1), padding=(2, 2))\n",
              "  (conv5): Conv2d(128, 256, kernel_size=(5, 5), stride=(1, 1), padding=(2, 2))\n",
              "  (fc1): Linear(in_features=256, out_features=120, bias=True)\n",
              "  (fc2): Linear(in_features=120, out_features=84, bias=True)\n",
              "  (fc3): Linear(in_features=84, out_features=10, bias=True)\n",
              "  (dropout): Dropout(p=0.5, inplace=False)\n",
              ")"
            ]
          },
          "metadata": {
            "tags": []
          },
          "execution_count": 81
        }
      ]
    },
    {
      "cell_type": "code",
      "metadata": {
        "colab": {
          "base_uri": "https://localhost:8080/"
        },
        "id": "dieuEKa2pFgX",
        "outputId": "8e9ec42c-e105-4912-c8ab-bd3d9187f951"
      },
      "source": [
        "model.eval()\n",
        "train_acc = get_model_acc(model, train_loader)\n",
        "test_acc = get_model_acc(model, test_loader)\n",
        "print(f'Training accuracy: {train_acc}, Testing accuracy: {test_acc}')"
      ],
      "execution_count": null,
      "outputs": [
        {
          "output_type": "stream",
          "text": [
            "tensor(40779)\n",
            "tensor(7233)\n",
            "Training accuracy: 81.55799865722656, Testing accuracy: 72.33000183105469\n"
          ],
          "name": "stdout"
        }
      ]
    }
  ]
}